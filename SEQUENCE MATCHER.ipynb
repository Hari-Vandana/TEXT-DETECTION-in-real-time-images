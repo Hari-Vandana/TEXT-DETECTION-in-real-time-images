{
 "cells": [
  {
   "cell_type": "code",
   "execution_count": 80,
   "id": "9052241d",
   "metadata": {},
   "outputs": [],
   "source": [
    "# Import required packages\n",
    "import cv2\n",
    "import pytesseract\n",
    "\n",
    "# Mention the installed location of Tesseract-OCR in your system\n",
    "pytesseract.pytesseract.tesseract_cmd = 'C:/Users/bandl/Desktop/Tesseract-OCR/tesseract.exe'\n",
    "\n",
    "# Read image from which text needs to be extracted\n",
    "img = cv2.imread('C:/Users/bandl/Desktop/Pic Repository/seismograph.jpeg')\n",
    "\n",
    "# Preprocessing the image starts\n",
    "\n",
    "# Convert the image to gray scale\n",
    "gray = cv2.cvtColor(img, cv2.COLOR_BGR2GRAY)\n",
    "\n",
    "# Performing OTSU threshold\n",
    "ret, thresh1 = cv2.threshold(gray, 0, 255, cv2.THRESH_OTSU | cv2.THRESH_BINARY_INV)\n",
    "\n",
    "# Specify structure shape and kernel size.\n",
    "# Kernel size increases or decreases the area\n",
    "# of the rectangle to be detected.\n",
    "# A smaller value like (10, 10) will detect\n",
    "# each word instead of a sentence.\n",
    "rect_kernel = cv2.getStructuringElement(cv2.MORPH_RECT, (50, 20))\n",
    "\n",
    "# Applying dilation on the threshold image\n",
    "dilation = cv2.dilate(thresh1, rect_kernel, iterations = 1)\n",
    "\n",
    "# Finding contours\n",
    "contours, hierarchy = cv2.findContours(dilation, cv2.RETR_EXTERNAL,\n",
    "\t\t\t\t\t\t\t\t\t\t\t\tcv2.CHAIN_APPROX_NONE)\n",
    "\n",
    "# Creating a copy of image\n",
    "im2 = img.copy()\n",
    "\n",
    "# A text file is created and flushed\n",
    "file = open(\"recognizedref.txt\", \"w+\")\n",
    "file.write(\"\")\n",
    "file.close()\n",
    "\n",
    "# Looping through the identified contours\n",
    "# Then rectangular part is cropped and passed on\n",
    "# to pytesseract for extracting text from it\n",
    "# Extracted text is then written into the text file\n",
    "for cnt in contours:\n",
    "\tx, y, w, h = cv2.boundingRect(cnt)\n",
    "\t\n",
    "\t# Drawing a rectangle on copied image\n",
    "\trect = cv2.rectangle(im2, (x, y), (x + w, y + h), (0, 255, 0), 2)\n",
    "\t\n",
    "\t# Cropping the text block for giving input to OCR\n",
    "\tcropped = im2[y:y + h, x:x + w]\n",
    "\t\n",
    "\t# Open the file in append mode\n",
    "\tfile = open(\"recognizedref.txt\", \"a\")\n",
    "\t\n",
    "\t# Apply OCR on the cropped image\n",
    "\ttext = pytesseract.image_to_string(cropped)\n",
    "\t\n",
    "\t# Appending the text into file\n",
    "\tfile.write(text)\n",
    "\tfile.write(\"\\n\")\n",
    "\t\n",
    "\t# Close the file\n",
    "\tfile.close\n"
   ]
  },
  {
   "cell_type": "code",
   "execution_count": 81,
   "id": "71dcefa1",
   "metadata": {},
   "outputs": [],
   "source": [
    "# Import required packages\n",
    "import cv2\n",
    "import pytesseract\n",
    "\n",
    "# Mention the installed location of Tesseract-OCR in your system\n",
    "pytesseract.pytesseract.tesseract_cmd = 'C:/Users/bandl/Desktop/Tesseract-OCR/tesseract.exe'\n",
    "\n",
    "# Read image from which text needs to be extracted\n",
    "img = cv2.imread(\"C:/Users/bandl/Gaussian Img.jpg\")\n",
    "\n",
    "# Preprocessing the image starts\n",
    "\n",
    "# Convert the image to gray scale\n",
    "gray = cv2.cvtColor(img, cv2.COLOR_BGR2GRAY)\n",
    "\n",
    "# Performing OTSU threshold\n",
    "ret, thresh1 = cv2.threshold(gray, 0, 255, cv2.THRESH_OTSU | cv2.THRESH_BINARY_INV)\n",
    "\n",
    "# Specify structure shape and kernel size.\n",
    "# Kernel size increases or decreases the area\n",
    "# of the rectangle to be detected.\n",
    "# A smaller value like (10, 10) will detect\n",
    "# each word instead of a sentence.\n",
    "rect_kernel = cv2.getStructuringElement(cv2.MORPH_RECT, (40, 18))\n",
    "40\n",
    "# Applying dilation on the threshold image\n",
    "dilation = cv2.dilate(thresh1, rect_kernel, iterations = 1)\n",
    "\n",
    "# Finding contours\n",
    "contours, hierarchy = cv2.findContours(dilation, cv2.RETR_EXTERNAL,\n",
    "\t\t\t\t\t\t\t\t\t\t\t\tcv2.CHAIN_APPROX_NONE)\n",
    "\n",
    "# Creating a copy of image\n",
    "im2 = img.copy()\n",
    "\n",
    "# A text file is created and flushed\n",
    "file = open(\"recognizedAHE.txt\", \"w+\")\n",
    "file.write(\"\")\n",
    "file.close()\n",
    "\n",
    "# Looping through the identified contours\n",
    "# Then rectangular part is cropped and passed on\n",
    "# to pytesseract for extracting text from it\n",
    "# Extracted text is then written into the text file\n",
    "for cnt in contours:\n",
    "\tx, y, w, h = cv2.boundingRect(cnt)\n",
    "\t\n",
    "\t# Drawing a rectangle on copied image\n",
    "\trect = cv2.rectangle(im2, (x, y), (x + w, y + h), (0, 255, 0), 2)\n",
    "\t\n",
    "\t# Cropping the text block for giving input to OCR\n",
    "\tcropped = im2[y:y + h, x:x + w]\n",
    "\t\n",
    "\t# Open the file in append mode\n",
    "\tfile = open(\"recognizedAHE.txt\", \"a\")\n",
    "\t\n",
    "\t# Apply OCR on the cropped image\n",
    "\ttext = pytesseract.image_to_string(cropped)\n",
    "\t\n",
    "\t# Appending the text into file\n",
    "\tfile.write(text)\n",
    "\tfile.write(\"\\n\")\n",
    "\t\n",
    "\t# Close the file\n",
    "\tfile.close\n"
   ]
  },
  {
   "cell_type": "code",
   "execution_count": 82,
   "id": "65fc5140",
   "metadata": {},
   "outputs": [
    {
     "name": "stdout",
     "output_type": "stream",
     "text": [
      "57.04225352112676\n"
     ]
    }
   ],
   "source": [
    "from difflib import SequenceMatcher\n",
    "text1 = open(\"C:/Users/bandl/recognizedref.txt\").read()\n",
    "text2 = open(\"C:/Users/bandl/recognizedAHE.txt\").read()\n",
    "m = SequenceMatcher(None, text1, text2)\n",
    "z=m.ratio()\n",
    "print(z*100)"
   ]
  },
  {
   "cell_type": "raw",
   "id": "75ea54ac",
   "metadata": {},
   "source": []
  },
  {
   "cell_type": "code",
   "execution_count": 1,
   "id": "e5a53ba9",
   "metadata": {},
   "outputs": [
    {
     "name": "stdout",
     "output_type": "stream",
     "text": [
      "Collecting pybind11\n",
      "  Downloading pybind11-2.9.1-py2.py3-none-any.whl (211 kB)\n",
      "Installing collected packages: pybind11\n",
      "Successfully installed pybind11-2.9.1\n"
     ]
    },
    {
     "name": "stderr",
     "output_type": "stream",
     "text": [
      "WARNING: You are using pip version 21.3.1; however, version 22.0.4 is available.\n",
      "You should consider upgrading via the 'C:\\Users\\bandl\\anaconda3\\python.exe -m pip install --upgrade pip' command.\n"
     ]
    },
    {
     "name": "stdout",
     "output_type": "stream",
     "text": [
      "Collecting fastwer\n",
      "  Downloading fastwer-0.1.3.tar.gz (4.6 kB)\n",
      "  Preparing metadata (setup.py): started\n",
      "  Preparing metadata (setup.py): finished with status 'done'\n",
      "Requirement already satisfied: pybind11 in c:\\users\\bandl\\anaconda3\\lib\\site-packages (from fastwer) (2.9.1)\n",
      "Building wheels for collected packages: fastwer\n",
      "  Building wheel for fastwer (setup.py): started\n",
      "  Building wheel for fastwer (setup.py): finished with status 'done'\n",
      "  Created wheel for fastwer: filename=fastwer-0.1.3-cp39-cp39-win_amd64.whl size=58866 sha256=7960cbe361d6ace00ff1b71432031b97d67300c0d930442983ac92c0672f4ce9\n",
      "  Stored in directory: c:\\users\\bandl\\appdata\\local\\pip\\cache\\wheels\\2b\\69\\dd\\8daec95853d65514fc28654423070ff5a227a52b6929caa2cf\n",
      "Successfully built fastwer\n",
      "Installing collected packages: fastwer\n",
      "Successfully installed fastwer-0.1.3\n"
     ]
    },
    {
     "name": "stderr",
     "output_type": "stream",
     "text": [
      "WARNING: You are using pip version 21.3.1; however, version 22.0.4 is available.\n",
      "You should consider upgrading via the 'C:\\Users\\bandl\\anaconda3\\python.exe -m pip install --upgrade pip' command.\n"
     ]
    },
    {
     "name": "stdout",
     "output_type": "stream",
     "text": [
      "Requirement already satisfied: pytesseract in c:\\users\\bandl\\anaconda3\\lib\\site-packages (0.3.8)\n",
      "Requirement already satisfied: Pillow in c:\\users\\bandl\\anaconda3\\lib\\site-packages (from pytesseract) (8.4.0)\n"
     ]
    },
    {
     "name": "stderr",
     "output_type": "stream",
     "text": [
      "WARNING: You are using pip version 21.3.1; however, version 22.0.4 is available.\n",
      "You should consider upgrading via the 'C:\\Users\\bandl\\anaconda3\\python.exe -m pip install --upgrade pip' command.\n",
      "'sudo' is not recognized as an internal or external command,\n",
      "operable program or batch file.\n"
     ]
    }
   ],
   "source": [
    "!pip install pybind11\n",
    "!pip install fastwer\n",
    "!pip install pytesseract\n",
    "!sudo apt install tesseract-ocr"
   ]
  },
  {
   "cell_type": "code",
   "execution_count": 1,
   "id": "4d003a7e",
   "metadata": {},
   "outputs": [],
   "source": [
    "import cv2\n",
    "import pytesseract\n",
    "import fastwer\n",
    "import os\n",
    "import numpy as np\n",
    "import pandas as pd\n",
    "import matplotlib.pyplot as plt\n",
    "from IPython.display import Image, display"
   ]
  },
  {
   "cell_type": "code",
   "execution_count": 83,
   "id": "59af30e2",
   "metadata": {},
   "outputs": [
    {
     "data": {
      "text/plain": [
       "40.4339"
      ]
     },
     "execution_count": 83,
     "metadata": {},
     "output_type": "execute_result"
    }
   ],
   "source": [
    "# Define reference text and output text\n",
    "ref = text1\n",
    "output = text2\n",
    "\n",
    "# Obtain Sentence-Level Character Error Rate (CER)\n",
    "fastwer.score_sent(output, ref, char_level=True)"
   ]
  },
  {
   "cell_type": "code",
   "execution_count": 2,
   "id": "661aa771",
   "metadata": {},
   "outputs": [
    {
     "data": {
      "text/plain": [
       "18.75"
      ]
     },
     "execution_count": 2,
     "metadata": {},
     "output_type": "execute_result"
    }
   ],
   "source": [
    "# Define reference text and output text\n",
    "ref = 'Hari is sleeping'\n",
    "output = 'Harii iz sleping'\n",
    "\n",
    "# Obtain Sentence-Level Character Error Rate (CER)\n",
    "fastwer.score_sent(output, ref, char_level=True)"
   ]
  },
  {
   "cell_type": "code",
   "execution_count": 84,
   "id": "7d2e8528",
   "metadata": {},
   "outputs": [
    {
     "data": {
      "text/plain": [
       "57.1429"
      ]
     },
     "execution_count": 84,
     "metadata": {},
     "output_type": "execute_result"
    }
   ],
   "source": [
    "#Obtain Sentence-Level Word Error Rate (WER)\n",
    "fastwer.score_sent(output, ref)"
   ]
  },
  {
   "cell_type": "code",
   "execution_count": 37,
   "id": "a8ea500d",
   "metadata": {},
   "outputs": [
    {
     "data": {
      "image/png": "[encoded data removed]",
      "text/plain": [
       "<Figure size 432x288 with 1 Axes>"
      ]
     },
     "metadata": {
      "needs_background": "light"
     },
     "output_type": "display_data"
    },
    {
     "data": {
      "text/plain": [
       "True"
      ]
     },
     "execution_count": 37,
     "metadata": {},
     "output_type": "execute_result"
    }
   ],
   "source": [
    "image_thres=cv2.imread('C:/Users/bandl/Desktop/Pic Repository/medieval.jpeg')\n",
    "image_thres.shape\n",
    "def rgb2gray(rgb):\n",
    "    r, g, b = rgb[:,:,0], rgb[:,:,1], rgb[:,:,2]\n",
    "    gray = 0.2989 * r + 0.5870 * g + 0.1140 * b\n",
    "    return gray\n",
    "img_gray=rgb2gray(image_thres)\n",
    "img_temp = np.ones((1280,1280), dtype=np.int16)\n",
    "img_gray=img_temp*(img_gray > 76)\n",
    "plt.figure(5)\n",
    "plt.imshow(img_gray,cmap='gray')\n",
    "plt.title(\"Binarized Image\")\n",
    "plt.show()\n",
    "cv2.imwrite(\"Binary Img.jpg\", img_gray)"
   ]
  },
  {
   "cell_type": "code",
   "execution_count": null,
   "id": "98edd611",
   "metadata": {},
   "outputs": [],
   "source": [
    "import numpy as np\n",
    "import matplotlib.pyplot as plt\n",
    "import matplotlib.image as mpimg\n",
    "img=mpimg.imread(\"C:/Users/bandl/Cropped Image.jpg\")\n",
    "img.shape"
   ]
  }
 ],
 "metadata": {
  "kernelspec": {
   "display_name": "Python 3 (ipykernel)",
   "language": "python",
   "name": "python3"
  },
  "language_info": {
   "codemirror_mode": {
    "name": "ipython",
    "version": 3
   },
   "file_extension": ".py",
   "mimetype": "text/x-python",
   "name": "python",
   "nbconvert_exporter": "python",
   "pygments_lexer": "ipython3",
   "version": "3.9.7"
  }
 },
 "nbformat": 4,
 "nbformat_minor": 5
}
